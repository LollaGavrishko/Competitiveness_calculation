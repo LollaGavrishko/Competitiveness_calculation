{
 "cells": [
  {
   "cell_type": "markdown",
   "id": "c3236cfe",
   "metadata": {},
   "source": [
    "# Расчёт конкурентоспособности "
   ]
  },
  {
   "cell_type": "code",
   "execution_count": 39,
   "id": "9f97ab00",
   "metadata": {},
   "outputs": [],
   "source": [
    "import numpy as np\n",
    "import pandas as pd\n",
    "from math import sqrt "
   ]
  },
  {
   "cell_type": "code",
   "execution_count": 41,
   "id": "b32329cf",
   "metadata": {},
   "outputs": [
    {
     "name": "stdout",
     "output_type": "stream",
     "text": [
      "Максимальная взлетная масса, кг\n",
      "Полезная нагрузка, кг \n",
      "Крейсерская скорость, км/ч \n",
      "Максимальная дальность полета с АНЗ, км\n"
     ]
    }
   ],
   "source": [
    "#Технические характеристики\n",
    "characteristic1 = str(input())\n",
    "characteristic2 = str(input())\n",
    "characteristic3 = str(input())\n",
    "characteristic4 = str(input())"
   ]
  },
  {
   "cell_type": "code",
   "execution_count": 42,
   "id": "04a785fe",
   "metadata": {},
   "outputs": [
    {
     "name": "stdout",
     "output_type": "stream",
     "text": [
      "Цена продаж за рубежом, $ млн\n",
      "Стоимость летного часа, $\n"
     ]
    }
   ],
   "source": [
    "#Экономические характеристики\n",
    "characteristic5 = str(input())\n",
    "characteristic6 = str(input())"
   ]
  },
  {
   "cell_type": "code",
   "execution_count": 43,
   "id": "46a38af9",
   "metadata": {},
   "outputs": [
    {
     "name": "stdout",
     "output_type": "stream",
     "text": [
      "13000\n",
      "11000\n",
      "12200\n",
      "[13000, 11000, 12200]\n",
      "Лучшее значение:  13000\n"
     ]
    }
   ],
   "source": [
    "#characteristic1\n",
    "list1 = []\n",
    "for i in range(3):\n",
    "    list1.append(int(input()))\n",
    "\n",
    "print(list1)\n",
    "max1 = max(list1)\n",
    "print(\"Лучшее значение: \", max1)"
   ]
  },
  {
   "cell_type": "code",
   "execution_count": 44,
   "id": "56250eb2",
   "metadata": {},
   "outputs": [
    {
     "name": "stdout",
     "output_type": "stream",
     "text": [
      "3911\n",
      "4327\n",
      "3995\n",
      "[3911, 4327, 3995]\n",
      "Лучшее значение:  4327\n"
     ]
    }
   ],
   "source": [
    "#characteristic2\n",
    "list2 = []\n",
    "for i in range(3):\n",
    "    list2.append(int(input()))\n",
    "\n",
    "print(list2)\n",
    "max2 = max(list2)\n",
    "print(\"Лучшее значение: \", max2)"
   ]
  },
  {
   "cell_type": "code",
   "execution_count": 45,
   "id": "a1f72167",
   "metadata": {},
   "outputs": [
    {
     "name": "stdout",
     "output_type": "stream",
     "text": [
      "240\n",
      "278\n",
      "269\n",
      "[240, 278, 269]\n",
      "Лучшее значение:  278\n"
     ]
    }
   ],
   "source": [
    "#characteristic3\n",
    "list3 = []\n",
    "for i in range(3):\n",
    "    list3.append(int(input()))\n",
    "\n",
    "print(list3)\n",
    "max3 = max(list3)\n",
    "print(\"Лучшее значение: \", max3)"
   ]
  },
  {
   "cell_type": "code",
   "execution_count": 46,
   "id": "25d3aaed",
   "metadata": {},
   "outputs": [
    {
     "name": "stdout",
     "output_type": "stream",
     "text": [
      "510\n",
      "816\n",
      "573\n",
      "[510, 816, 573]\n",
      "Лучшее значение:  816\n"
     ]
    }
   ],
   "source": [
    "#characteristic4\n",
    "list4 = []\n",
    "for i in range(3):\n",
    "    list4.append(int(input()))\n",
    "\n",
    "print(list4)\n",
    "max4 = max(list4)\n",
    "print(\"Лучшее значение: \", max4)"
   ]
  },
  {
   "cell_type": "code",
   "execution_count": 48,
   "id": "a06bd1fd",
   "metadata": {},
   "outputs": [
    {
     "name": "stdout",
     "output_type": "stream",
     "text": [
      "18.5\n",
      "28.5\n",
      "28.5\n",
      "[18.5, 28.5, 28.5]\n",
      "Лучшее значение:  18.5\n"
     ]
    }
   ],
   "source": [
    "#characteristic5\n",
    "list5 = []\n",
    "for i in range(3):\n",
    "    list5.append(float(input()))\n",
    "\n",
    "print(list5)\n",
    "min1 = min(list5)\n",
    "print(\"Лучшее значение: \", min1)"
   ]
  },
  {
   "cell_type": "code",
   "execution_count": 49,
   "id": "b5cb4fe3",
   "metadata": {},
   "outputs": [
    {
     "name": "stdout",
     "output_type": "stream",
     "text": [
      "4600\n",
      "5918\n",
      "5931\n",
      "[4600, 5918, 5931]\n",
      "Лучшее значение:  4600\n"
     ]
    }
   ],
   "source": [
    "#characteristic6\n",
    "list6 = []\n",
    "for i in range(3):\n",
    "    list6.append(int(input()))\n",
    "\n",
    "print(list6)\n",
    "min2 = min(list6)\n",
    "print(\"Лучшее значение: \", min2)"
   ]
  },
  {
   "cell_type": "code",
   "execution_count": 50,
   "id": "478b92dc",
   "metadata": {},
   "outputs": [],
   "source": [
    "#Исходные данные\n",
    "initial_data = pd.DataFrame({\"№\" : [1, 1.1, 2.1, 3.1, 4.1, 2, 1.2, 2.2],\n",
    "                             \"Характеристика\": ['Технические характеристики: ', 'Максимальная взлетная масса, кг', 'Полезная нагрузка, кг', 'Крейсерская скорость, км/ч', 'Максимальная дальность полета с АНЗ, км', 'Экономические характеристики: ', 'Цена продаж за рубежом, $ млн', 'Стоимость летного часа, $'],\n",
    "                             \"Ми-171Аз\": ['null', 13000, 3911, 240, 510, 'null', 18.5, 4600], \"Н-225 Airbus Helicopters\": ['null', 11000, 4327, 278, 816, 'null', 28.5, 5918], \"S-92 Sikorsky Aircraft\": ['null', 12200, 3995, 269, 573, 'null', 28.5, 5931],\n",
    "                             \"Лучшее зачение (идеальная модель)\": ['null', 13000, 4327, 278, 816, 'null', 18.5, 4600]})\n",
    "                            "
   ]
  },
  {
   "cell_type": "code",
   "execution_count": 51,
   "id": "e382c6ce",
   "metadata": {},
   "outputs": [
    {
     "data": {
      "text/html": [
       "<div>\n",
       "<style scoped>\n",
       "    .dataframe tbody tr th:only-of-type {\n",
       "        vertical-align: middle;\n",
       "    }\n",
       "\n",
       "    .dataframe tbody tr th {\n",
       "        vertical-align: top;\n",
       "    }\n",
       "\n",
       "    .dataframe thead th {\n",
       "        text-align: right;\n",
       "    }\n",
       "</style>\n",
       "<table border=\"1\" class=\"dataframe\">\n",
       "  <thead>\n",
       "    <tr style=\"text-align: right;\">\n",
       "      <th></th>\n",
       "      <th>№</th>\n",
       "      <th>Характеристика</th>\n",
       "      <th>Ми-171Аз</th>\n",
       "      <th>Н-225 Airbus Helicopters</th>\n",
       "      <th>S-92 Sikorsky Aircraft</th>\n",
       "      <th>Лучшее зачение (идеальная модель)</th>\n",
       "    </tr>\n",
       "  </thead>\n",
       "  <tbody>\n",
       "    <tr>\n",
       "      <th>0</th>\n",
       "      <td>1.0</td>\n",
       "      <td>Технические характеристики:</td>\n",
       "      <td>null</td>\n",
       "      <td>null</td>\n",
       "      <td>null</td>\n",
       "      <td>null</td>\n",
       "    </tr>\n",
       "    <tr>\n",
       "      <th>1</th>\n",
       "      <td>1.1</td>\n",
       "      <td>Максимальная взлетная масса, кг</td>\n",
       "      <td>13000</td>\n",
       "      <td>11000</td>\n",
       "      <td>12200</td>\n",
       "      <td>13000</td>\n",
       "    </tr>\n",
       "    <tr>\n",
       "      <th>2</th>\n",
       "      <td>2.1</td>\n",
       "      <td>Полезная нагрузка, кг</td>\n",
       "      <td>3911</td>\n",
       "      <td>4327</td>\n",
       "      <td>3995</td>\n",
       "      <td>4327</td>\n",
       "    </tr>\n",
       "    <tr>\n",
       "      <th>3</th>\n",
       "      <td>3.1</td>\n",
       "      <td>Крейсерская скорость, км/ч</td>\n",
       "      <td>240</td>\n",
       "      <td>278</td>\n",
       "      <td>269</td>\n",
       "      <td>278</td>\n",
       "    </tr>\n",
       "    <tr>\n",
       "      <th>4</th>\n",
       "      <td>4.1</td>\n",
       "      <td>Максимальная дальность полета с АНЗ, км</td>\n",
       "      <td>510</td>\n",
       "      <td>816</td>\n",
       "      <td>573</td>\n",
       "      <td>816</td>\n",
       "    </tr>\n",
       "    <tr>\n",
       "      <th>5</th>\n",
       "      <td>2.0</td>\n",
       "      <td>Экономические характеристики:</td>\n",
       "      <td>null</td>\n",
       "      <td>null</td>\n",
       "      <td>null</td>\n",
       "      <td>null</td>\n",
       "    </tr>\n",
       "    <tr>\n",
       "      <th>6</th>\n",
       "      <td>1.2</td>\n",
       "      <td>Цена продаж за рубежом, $ млн</td>\n",
       "      <td>18.5</td>\n",
       "      <td>28.5</td>\n",
       "      <td>28.5</td>\n",
       "      <td>18.5</td>\n",
       "    </tr>\n",
       "    <tr>\n",
       "      <th>7</th>\n",
       "      <td>2.2</td>\n",
       "      <td>Стоимость летного часа, $</td>\n",
       "      <td>4600</td>\n",
       "      <td>5918</td>\n",
       "      <td>5931</td>\n",
       "      <td>4600</td>\n",
       "    </tr>\n",
       "  </tbody>\n",
       "</table>\n",
       "</div>"
      ],
      "text/plain": [
       "     №                           Характеристика Ми-171Аз  \\\n",
       "0  1.0             Технические характеристики:      null   \n",
       "1  1.1          Максимальная взлетная масса, кг    13000   \n",
       "2  2.1                    Полезная нагрузка, кг     3911   \n",
       "3  3.1               Крейсерская скорость, км/ч      240   \n",
       "4  4.1  Максимальная дальность полета с АНЗ, км      510   \n",
       "5  2.0           Экономические характеристики:      null   \n",
       "6  1.2            Цена продаж за рубежом, $ млн     18.5   \n",
       "7  2.2                Стоимость летного часа, $     4600   \n",
       "\n",
       "  Н-225 Airbus Helicopters S-92 Sikorsky Aircraft  \\\n",
       "0                     null                   null   \n",
       "1                    11000                  12200   \n",
       "2                     4327                   3995   \n",
       "3                      278                    269   \n",
       "4                      816                    573   \n",
       "5                     null                   null   \n",
       "6                     28.5                   28.5   \n",
       "7                     5918                   5931   \n",
       "\n",
       "  Лучшее зачение (идеальная модель)  \n",
       "0                              null  \n",
       "1                             13000  \n",
       "2                              4327  \n",
       "3                               278  \n",
       "4                               816  \n",
       "5                              null  \n",
       "6                              18.5  \n",
       "7                              4600  "
      ]
     },
     "execution_count": 51,
     "metadata": {},
     "output_type": "execute_result"
    }
   ],
   "source": [
    "initial_data"
   ]
  },
  {
   "cell_type": "code",
   "execution_count": 52,
   "id": "a9f7314d",
   "metadata": {},
   "outputs": [
    {
     "name": "stdout",
     "output_type": "stream",
     "text": [
      "a1:  1.0\n",
      "a2:  0.8461538461538461\n",
      "a3:  0.9384615384615385\n"
     ]
    }
   ],
   "source": [
    "#Расчет частных нормированных показателей \n",
    "#Максимальная взлетная масса, кг\n",
    "for i in range(3):\n",
    "    a1 = list1[0]/max1\n",
    "    a2 = list1[1]/max1\n",
    "    a3 = list1[2]/max1\n",
    "print(\"a1: \", a1)\n",
    "print(\"a2: \", a2)\n",
    "print(\"a3: \", a3)"
   ]
  },
  {
   "cell_type": "code",
   "execution_count": 53,
   "id": "b889c193",
   "metadata": {},
   "outputs": [
    {
     "name": "stdout",
     "output_type": "stream",
     "text": [
      "b1:  0.9038594869424543\n",
      "b2:  1.0\n",
      "b3:  0.9232724751559972\n"
     ]
    }
   ],
   "source": [
    "#Расчет частных нормированных показателей \n",
    "#Полезная нагрузка, кг\n",
    "for i in range(3):\n",
    "    b1 = list2[0]/max2\n",
    "    b2 = list2[1]/max2\n",
    "    b3 = list2[2]/max2\n",
    "print(\"b1: \", b1)\n",
    "print(\"b2: \", b2)\n",
    "print(\"b3: \", b3)"
   ]
  },
  {
   "cell_type": "code",
   "execution_count": 54,
   "id": "8b39b792",
   "metadata": {},
   "outputs": [
    {
     "name": "stdout",
     "output_type": "stream",
     "text": [
      "c1:  0.8633093525179856\n",
      "c2:  1.0\n",
      "c3:  0.9676258992805755\n"
     ]
    }
   ],
   "source": [
    "#Расчет частных нормированных показателей\n",
    "#Крейсерская скорость, км/ч\n",
    "for i in range(3):\n",
    "    c1 = list3[0]/max3\n",
    "    c2 = list3[1]/max3\n",
    "    c3 = list3[2]/max3\n",
    "print(\"c1: \", c1)\n",
    "print(\"c2: \", c2)\n",
    "print(\"c3: \", c3)"
   ]
  },
  {
   "cell_type": "code",
   "execution_count": 55,
   "id": "42c34e6d",
   "metadata": {},
   "outputs": [
    {
     "name": "stdout",
     "output_type": "stream",
     "text": [
      "d1:  0.625\n",
      "d2:  1.0\n",
      "d3:  0.7022058823529411\n"
     ]
    }
   ],
   "source": [
    "#Расчет частных нормированных показателей\n",
    "#Максимальная дальность полета с АНЗ, км\n",
    "for i in range(3):\n",
    "    d1 = list4[0]/max4\n",
    "    d2 = list4[1]/max4\n",
    "    d3 = list4[2]/max4\n",
    "print(\"d1: \", d1)\n",
    "print(\"d2: \", d2)\n",
    "print(\"d3: \", d3)"
   ]
  },
  {
   "cell_type": "code",
   "execution_count": 56,
   "id": "b74b0a12",
   "metadata": {},
   "outputs": [
    {
     "name": "stdout",
     "output_type": "stream",
     "text": [
      "e1:  1.0\n",
      "e2:  0.6491228070175439\n",
      "e3:  0.6491228070175439\n"
     ]
    }
   ],
   "source": [
    "#Расчет частных нормированных показателей \n",
    "#Цена продаж за рубежом, $ млн\n",
    "for i in range(3):\n",
    "    e1 = min1/list5[0]\n",
    "    e2 = min1/list5[1]\n",
    "    e3 = min1/list5[2]\n",
    "print(\"e1: \", e1)\n",
    "print(\"e2: \", e2)\n",
    "print(\"e3: \", e3)"
   ]
  },
  {
   "cell_type": "code",
   "execution_count": 57,
   "id": "2a0dcd2c",
   "metadata": {},
   "outputs": [
    {
     "name": "stdout",
     "output_type": "stream",
     "text": [
      "j1:  1.0\n",
      "j2:  0.777289624873268\n",
      "j3:  0.7755859045692126\n"
     ]
    }
   ],
   "source": [
    "#Расчет частных нормированных показателей \n",
    "#Стоимость летного часа, $\n",
    "for i in range(3):\n",
    "    j1 = min2/list6[0]\n",
    "    j2 = min2/list6[1]\n",
    "    j3 = min2/list6[2]\n",
    "print(\"j1: \", j1)\n",
    "print(\"j2: \", j2)\n",
    "print(\"j3: \", j3)"
   ]
  },
  {
   "cell_type": "code",
   "execution_count": 58,
   "id": "6dbfc525",
   "metadata": {},
   "outputs": [],
   "source": [
    "#Расчет частных нормированных показателей \n",
    "rationing_indicators = pd.DataFrame({\"№\" : [1, 1.1, 2.1, 3.1, 4.1, 2, 1.2, 2.2],\n",
    "                             \"Характеристика\": ['Технические характеристики: ', 'Максимальная взлетная масса, кг', 'Полезная нагрузка, кг', 'Крейсерская скорость, км/ч', 'Максимальная дальность полета с АНЗ, км', 'Экономические характеристики: ', 'Цена продаж за рубежом, $ млн', 'Стоимость летного часа, $'],\n",
    "                             \"Ми-171Аз\": ['null', 1, 0.904, 0.863, 0.625, 'null', 1, 1], \"Н-225 Airbus Helicopters\": ['null', 0.846, 1, 1, 1, 'null', 0.649, 0.777], \"S-92 Sikorsky Aircraft\": ['null', 0.938, 0.923, 0.968, 0.702, 'null', 0.649, 0.776]})\n",
    "                            "
   ]
  },
  {
   "cell_type": "code",
   "execution_count": 59,
   "id": "1a1d7b4c",
   "metadata": {},
   "outputs": [
    {
     "data": {
      "text/html": [
       "<div>\n",
       "<style scoped>\n",
       "    .dataframe tbody tr th:only-of-type {\n",
       "        vertical-align: middle;\n",
       "    }\n",
       "\n",
       "    .dataframe tbody tr th {\n",
       "        vertical-align: top;\n",
       "    }\n",
       "\n",
       "    .dataframe thead th {\n",
       "        text-align: right;\n",
       "    }\n",
       "</style>\n",
       "<table border=\"1\" class=\"dataframe\">\n",
       "  <thead>\n",
       "    <tr style=\"text-align: right;\">\n",
       "      <th></th>\n",
       "      <th>№</th>\n",
       "      <th>Характеристика</th>\n",
       "      <th>Ми-171Аз</th>\n",
       "      <th>Н-225 Airbus Helicopters</th>\n",
       "      <th>S-92 Sikorsky Aircraft</th>\n",
       "    </tr>\n",
       "  </thead>\n",
       "  <tbody>\n",
       "    <tr>\n",
       "      <th>0</th>\n",
       "      <td>1.0</td>\n",
       "      <td>Технические характеристики:</td>\n",
       "      <td>null</td>\n",
       "      <td>null</td>\n",
       "      <td>null</td>\n",
       "    </tr>\n",
       "    <tr>\n",
       "      <th>1</th>\n",
       "      <td>1.1</td>\n",
       "      <td>Максимальная взлетная масса, кг</td>\n",
       "      <td>1</td>\n",
       "      <td>0.846</td>\n",
       "      <td>0.938</td>\n",
       "    </tr>\n",
       "    <tr>\n",
       "      <th>2</th>\n",
       "      <td>2.1</td>\n",
       "      <td>Полезная нагрузка, кг</td>\n",
       "      <td>0.904</td>\n",
       "      <td>1</td>\n",
       "      <td>0.923</td>\n",
       "    </tr>\n",
       "    <tr>\n",
       "      <th>3</th>\n",
       "      <td>3.1</td>\n",
       "      <td>Крейсерская скорость, км/ч</td>\n",
       "      <td>0.863</td>\n",
       "      <td>1</td>\n",
       "      <td>0.968</td>\n",
       "    </tr>\n",
       "    <tr>\n",
       "      <th>4</th>\n",
       "      <td>4.1</td>\n",
       "      <td>Максимальная дальность полета с АНЗ, км</td>\n",
       "      <td>0.625</td>\n",
       "      <td>1</td>\n",
       "      <td>0.702</td>\n",
       "    </tr>\n",
       "    <tr>\n",
       "      <th>5</th>\n",
       "      <td>2.0</td>\n",
       "      <td>Экономические характеристики:</td>\n",
       "      <td>null</td>\n",
       "      <td>null</td>\n",
       "      <td>null</td>\n",
       "    </tr>\n",
       "    <tr>\n",
       "      <th>6</th>\n",
       "      <td>1.2</td>\n",
       "      <td>Цена продаж за рубежом, $ млн</td>\n",
       "      <td>1</td>\n",
       "      <td>0.649</td>\n",
       "      <td>0.649</td>\n",
       "    </tr>\n",
       "    <tr>\n",
       "      <th>7</th>\n",
       "      <td>2.2</td>\n",
       "      <td>Стоимость летного часа, $</td>\n",
       "      <td>1</td>\n",
       "      <td>0.777</td>\n",
       "      <td>0.776</td>\n",
       "    </tr>\n",
       "  </tbody>\n",
       "</table>\n",
       "</div>"
      ],
      "text/plain": [
       "     №                           Характеристика Ми-171Аз  \\\n",
       "0  1.0             Технические характеристики:      null   \n",
       "1  1.1          Максимальная взлетная масса, кг        1   \n",
       "2  2.1                    Полезная нагрузка, кг    0.904   \n",
       "3  3.1               Крейсерская скорость, км/ч    0.863   \n",
       "4  4.1  Максимальная дальность полета с АНЗ, км    0.625   \n",
       "5  2.0           Экономические характеристики:      null   \n",
       "6  1.2            Цена продаж за рубежом, $ млн        1   \n",
       "7  2.2                Стоимость летного часа, $        1   \n",
       "\n",
       "  Н-225 Airbus Helicopters S-92 Sikorsky Aircraft  \n",
       "0                     null                   null  \n",
       "1                    0.846                  0.938  \n",
       "2                        1                  0.923  \n",
       "3                        1                  0.968  \n",
       "4                        1                  0.702  \n",
       "5                     null                   null  \n",
       "6                    0.649                  0.649  \n",
       "7                    0.777                  0.776  "
      ]
     },
     "execution_count": 59,
     "metadata": {},
     "output_type": "execute_result"
    }
   ],
   "source": [
    "rationing_indicators"
   ]
  },
  {
   "cell_type": "code",
   "execution_count": 61,
   "id": "b27e69ee",
   "metadata": {},
   "outputs": [
    {
     "name": "stdout",
     "output_type": "stream",
     "text": [
      "4\n"
     ]
    }
   ],
   "source": [
    "n= int(input())"
   ]
  },
  {
   "cell_type": "code",
   "execution_count": 62,
   "id": "7ce836b5",
   "metadata": {},
   "outputs": [
    {
     "name": "stdout",
     "output_type": "stream",
     "text": [
      "Введите 4 элементов первой строки(первое число 1):\n",
      "1\n",
      "2\n",
      "3\n",
      "3\n",
      "[1.0, 2.0, 3.0, 3.0]\n"
     ]
    }
   ],
   "source": [
    "print(\"Введите\", n,\"элементов первой строки(первое число 1):\")\n",
    "matrix1 = []\n",
    "for i in range(n):\n",
    "    matrix1.append(float(input()))\n",
    "\n",
    "print(matrix1)"
   ]
  },
  {
   "cell_type": "code",
   "execution_count": 7,
   "id": "3aa05b62",
   "metadata": {},
   "outputs": [
    {
     "name": "stdout",
     "output_type": "stream",
     "text": [
      "Введите 4 элементов второй строки(второе число 1):\n",
      "0.5\n",
      "1\n",
      "3\n",
      "3\n"
     ]
    }
   ],
   "source": [
    "print(\"Введите\", n,\"элементов второй строки(второе число 1):\")\n",
    "matrix2 = []\n",
    "for i in range(n):\n",
    "    matrix2.append(float(input()))"
   ]
  },
  {
   "cell_type": "code",
   "execution_count": 34,
   "id": "bfcdb0f5",
   "metadata": {},
   "outputs": [
    {
     "name": "stdout",
     "output_type": "stream",
     "text": [
      "Введите 4 элементов третьей строки(третье число 1):\n",
      "0.33\n",
      "0.33\n",
      "1\n",
      "2\n"
     ]
    }
   ],
   "source": [
    "print(\"Введите\", n,\"элементов третьей строки(третье число 1):\")\n",
    "matrix3 = []\n",
    "for i in range(n):\n",
    "    matrix3.append(float(input()))"
   ]
  },
  {
   "cell_type": "code",
   "execution_count": 21,
   "id": "98c99351",
   "metadata": {},
   "outputs": [
    {
     "name": "stdout",
     "output_type": "stream",
     "text": [
      "Введите 4 элементов четвертой строки(четвертое число 1):\n",
      "0.33\n",
      "0.33\n",
      "0.5\n",
      "1\n"
     ]
    }
   ],
   "source": [
    "print(\"Введите\", n,\"элементов четвертой строки(четвертое число 1):\")\n",
    "matrix4=[]\n",
    "for i in range (n):\n",
    "    matrix4.append(float(input()))"
   ]
  },
  {
   "cell_type": "code",
   "execution_count": 35,
   "id": "10698471",
   "metadata": {},
   "outputs": [
    {
     "data": {
      "text/plain": [
       "1.0"
      ]
     },
     "execution_count": 35,
     "metadata": {},
     "output_type": "execute_result"
    }
   ],
   "source": [
    "#вектор приоритетов первой строки\n",
    "m1=sum(matrix1)\n",
    "m2=sum(matrix2)\n",
    "m3=sum(matrix3)\n",
    "m4=sum(matrix4)\n",
    "\n",
    "w1=m1/(m1+m2+m3+m4)\n",
    "w2=m2/(m1+m2+m3+m4)\n",
    "w3=m3/(m1+m2+m3+m4)\n",
    "w4=m4/(m1+m2+m3+m4)\n",
    "v=w1+w2+w3+w4\n",
    "v"
   ]
  },
  {
   "cell_type": "code",
   "execution_count": 36,
   "id": "25313fb5",
   "metadata": {},
   "outputs": [
    {
     "data": {
      "text/html": [
       "<div>\n",
       "<style scoped>\n",
       "    .dataframe tbody tr th:only-of-type {\n",
       "        vertical-align: middle;\n",
       "    }\n",
       "\n",
       "    .dataframe tbody tr th {\n",
       "        vertical-align: top;\n",
       "    }\n",
       "\n",
       "    .dataframe thead th {\n",
       "        text-align: right;\n",
       "    }\n",
       "</style>\n",
       "<table border=\"1\" class=\"dataframe\">\n",
       "  <thead>\n",
       "    <tr style=\"text-align: right;\">\n",
       "      <th></th>\n",
       "      <th>№</th>\n",
       "      <th>Характеристика</th>\n",
       "      <th>Максимальная взлетная масса, кг</th>\n",
       "      <th>Полезная нагрузка, кг</th>\n",
       "      <th>Крейсерская скорость, км/ч</th>\n",
       "      <th>Максимальная дальность полета с АНЗ, км</th>\n",
       "      <th>вектор приоритетов</th>\n",
       "    </tr>\n",
       "  </thead>\n",
       "  <tbody>\n",
       "    <tr>\n",
       "      <th>0</th>\n",
       "      <td>1</td>\n",
       "      <td>Максимальная взлетная масса, кг</td>\n",
       "      <td>1.00</td>\n",
       "      <td>2.00</td>\n",
       "      <td>3.0</td>\n",
       "      <td>3.0</td>\n",
       "      <td>0.403226</td>\n",
       "    </tr>\n",
       "    <tr>\n",
       "      <th>1</th>\n",
       "      <td>2</td>\n",
       "      <td>Полезная нагрузка, кг</td>\n",
       "      <td>0.50</td>\n",
       "      <td>1.00</td>\n",
       "      <td>3.0</td>\n",
       "      <td>3.0</td>\n",
       "      <td>0.336022</td>\n",
       "    </tr>\n",
       "    <tr>\n",
       "      <th>2</th>\n",
       "      <td>3</td>\n",
       "      <td>Крейсерская скорость, км/ч</td>\n",
       "      <td>0.33</td>\n",
       "      <td>0.33</td>\n",
       "      <td>1.0</td>\n",
       "      <td>2.0</td>\n",
       "      <td>0.163978</td>\n",
       "    </tr>\n",
       "    <tr>\n",
       "      <th>3</th>\n",
       "      <td>4</td>\n",
       "      <td>Максимальная дальность полета с АНЗ, км</td>\n",
       "      <td>0.33</td>\n",
       "      <td>0.33</td>\n",
       "      <td>0.5</td>\n",
       "      <td>1.0</td>\n",
       "      <td>0.096774</td>\n",
       "    </tr>\n",
       "  </tbody>\n",
       "</table>\n",
       "</div>"
      ],
      "text/plain": [
       "   №                           Характеристика  \\\n",
       "0  1          Максимальная взлетная масса, кг   \n",
       "1  2                    Полезная нагрузка, кг   \n",
       "2  3               Крейсерская скорость, км/ч   \n",
       "3  4  Максимальная дальность полета с АНЗ, км   \n",
       "\n",
       "   Максимальная взлетная масса, кг  Полезная нагрузка, кг  \\\n",
       "0                             1.00                   2.00   \n",
       "1                             0.50                   1.00   \n",
       "2                             0.33                   0.33   \n",
       "3                             0.33                   0.33   \n",
       "\n",
       "   Крейсерская скорость, км/ч  Максимальная дальность полета с АНЗ, км  \\\n",
       "0                         3.0                                      3.0   \n",
       "1                         3.0                                      3.0   \n",
       "2                         1.0                                      2.0   \n",
       "3                         0.5                                      1.0   \n",
       "\n",
       "   вектор приоритетов  \n",
       "0            0.403226  \n",
       "1            0.336022  \n",
       "2            0.163978  \n",
       "3            0.096774  "
      ]
     },
     "execution_count": 36,
     "metadata": {},
     "output_type": "execute_result"
    }
   ],
   "source": [
    "#название характеристик лучше заменить на переменные которым они принадлежат\n",
    "sravn = pd.DataFrame({\"№\" : [ 1, 2, 3, 4],\n",
    "                             \"Характеристика\": [ 'Максимальная взлетная масса, кг', 'Полезная нагрузка, кг', 'Крейсерская скорость, км/ч','Максимальная дальность полета с АНЗ, км'],\n",
    "                            \n",
    "                             \"Максимальная взлетная масса, кг\": [matrix1[0],matrix2[0],matrix3[0],matrix4[0]],\n",
    "                             \"Полезная нагрузка, кг\": [ matrix1[1],matrix2[1],matrix3[1],matrix4[1]],\n",
    "                             \"Крейсерская скорость, км/ч\": [ matrix1[2],matrix2[2],matrix3[2],matrix4[2]],\n",
    "                             'Максимальная дальность полета с АНЗ, км': [ matrix1[3],matrix2[3],matrix3[3],matrix4[3]],\n",
    "                             \"вектор приоритетов\":[w1,w2,w3,w4]})\n",
    "sravn"
   ]
  },
  {
   "cell_type": "code",
   "execution_count": 72,
   "id": "64cae3e7",
   "metadata": {},
   "outputs": [
    {
     "name": "stdout",
     "output_type": "stream",
     "text": [
      "Лучший показатель у объекта 2\n",
      "[0.9089900708908708, 0.9379652605459057, 0.9152765639369661]\n"
     ]
    }
   ],
   "source": [
    "#расчет показателя тех. конкурентоспособности \n",
    "r1=a1*w1+b1*w2+c1*w3+d1*w4\n",
    "r2=a2*w1+b2*w2+c2*w3+d2*w4\n",
    "r3=a3*w1+b3*w2+c3*w3+d3*w4\n",
    "list11=[r1,r2,r3]\n",
    "max11=max(list11)\n",
    "if max11==r1:\n",
    "    print(\"Лучший показатель у объекта 1\")\n",
    "if max11==r2:\n",
    "    print(\"Лучший показатель у объекта 2\")\n",
    "if max11==r3:\n",
    "    print(\"Лучший показатель у объекта 3\")\n",
    "print(list11)"
   ]
  },
  {
   "cell_type": "code",
   "execution_count": 73,
   "id": "8e2a5a08",
   "metadata": {},
   "outputs": [
    {
     "name": "stdout",
     "output_type": "stream",
     "text": [
      "Лучший показатель у объекта 1\n"
     ]
    },
    {
     "data": {
      "text/plain": [
       "[1.0, 0.713206215945406, 0.7123543557933782]"
      ]
     },
     "execution_count": 73,
     "metadata": {},
     "output_type": "execute_result"
    }
   ],
   "source": [
    "#расчет показателя эконом. конкурентоспособности \n",
    "r4=e1*0.5+j1*0.5\n",
    "r5=e2*0.5+j2*0.5\n",
    "r6=e3*0.5+j3*0.5\n",
    "list22=[r4,r5,r6]\n",
    "max22=max(list22)\n",
    "if max22==r4:\n",
    "    print(\"Лучший показатель у объекта 1\")\n",
    "if max22==r5:\n",
    "    print(\"Лучший показатель у объекта 2\")\n",
    "if max22==r6:\n",
    "    print(\"Лучший показатель у объекта 3\")\n",
    "list22"
   ]
  },
  {
   "cell_type": "code",
   "execution_count": 74,
   "id": "4a611b8e",
   "metadata": {},
   "outputs": [
    {
     "name": "stdout",
     "output_type": "stream",
     "text": [
      "Лучший показатель у объекта 1\n"
     ]
    },
    {
     "data": {
      "text/plain": [
       "[0.9544950354454353, 0.8255857382456558, 0.8138154598651721]"
      ]
     },
     "execution_count": 74,
     "metadata": {},
     "output_type": "execute_result"
    }
   ],
   "source": [
    "r7=r1*0.5+r4*0.5\n",
    "r8=r2*0.5+r5*0.5\n",
    "r9=r3*0.5+r6*0.5\n",
    "list33=[r7,r8,r9]\n",
    "max33=max(list33)\n",
    "if max33==r7:\n",
    "    print(\"Лучший показатель у объекта 1\")\n",
    "if max33==r8:\n",
    "    print(\"Лучший показатель у объекта 2\")\n",
    "if max33==r9:\n",
    "    print(\"Лучший показатель у объекта 3\")\n",
    "list33"
   ]
  },
  {
   "cell_type": "code",
   "execution_count": null,
   "id": "a024f57a",
   "metadata": {},
   "outputs": [],
   "source": []
  }
 ],
 "metadata": {
  "kernelspec": {
   "display_name": "Python 3 (ipykernel)",
   "language": "python",
   "name": "python3"
  },
  "language_info": {
   "codemirror_mode": {
    "name": "ipython",
    "version": 3
   },
   "file_extension": ".py",
   "mimetype": "text/x-python",
   "name": "python",
   "nbconvert_exporter": "python",
   "pygments_lexer": "ipython3",
   "version": "3.9.12"
  }
 },
 "nbformat": 4,
 "nbformat_minor": 5
}
